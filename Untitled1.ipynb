{
  "nbformat": 4,
  "nbformat_minor": 0,
  "metadata": {
    "colab": {
      "name": "Untitled1.ipynb",
      "provenance": [],
      "collapsed_sections": [],
      "authorship_tag": "ABX9TyN8mi1wCIwWkbZ3cDFEGbuk",
      "include_colab_link": true
    },
    "kernelspec": {
      "name": "python3",
      "display_name": "Python 3"
    },
    "language_info": {
      "name": "python"
    }
  },
  "cells": [
    {
      "cell_type": "markdown",
      "metadata": {
        "id": "view-in-github",
        "colab_type": "text"
      },
      "source": [
        "<a href=\"https://colab.research.google.com/github/Yagnesh50/Categorical-variables/blob/main/Untitled1.ipynb\" target=\"_parent\"><img src=\"https://colab.research.google.com/assets/colab-badge.svg\" alt=\"Open In Colab\"/></a>"
      ]
    },
    {
      "cell_type": "code",
      "metadata": {
        "id": "RFzMTWnduoXx"
      },
      "source": [
        ""
      ],
      "execution_count": null,
      "outputs": []
    },
    {
      "cell_type": "code",
      "metadata": {
        "id": "8PybnplL55WW"
      },
      "source": [
        "# XGBoost\n",
        "import xgboost\n",
        "model = xgboost.XGBRegressor(n_estimators=1000, max_depth=7, eta=0.1,\n",
        "                     subsample=0.7, colsample_bytree=0.8)\n"
      ],
      "execution_count": null,
      "outputs": []
    },
    {
      "cell_type": "code",
      "metadata": {
        "id": "0BkzxsLy6ZHk"
      },
      "source": [
        "from sklearn.model_selection import cross_val_score\n",
        "from sklearn.model_selection import RepeatedKFold\n",
        "cv = RepeatedKFold(n_splits=10, n_repeats=3, random_state=1)\n",
        "scores = cross_val_score(model, x_train,y_train, scoring='neg_mean_absolute_error', cv=cv, n_jobs=-1)"
      ],
      "execution_count": null,
      "outputs": []
    },
    {
      "cell_type": "code",
      "metadata": {
        "colab": {
          "base_uri": "https://localhost:8080/"
        },
        "id": "AeX71F6N6e5l",
        "outputId": "9815e6ad-694f-4f17-bae0-30f0a272af09"
      },
      "source": [
        "print('Mean MAE: %.3f (%.3f)' % (scores.mean(), scores.std()) )"
      ],
      "execution_count": null,
      "outputs": [
        {
          "output_type": "stream",
          "name": "stdout",
          "text": [
            "Mean MAE: -0.029 (0.003)\n"
          ]
        }
      ]
    },
    {
      "cell_type": "code",
      "metadata": {
        "colab": {
          "base_uri": "https://localhost:8080/"
        },
        "id": "Gp8x6cCMxrW-",
        "outputId": "23862217-d221-4262-e12a-fc893384c15b"
      },
      "source": [
        "print(\"MAE\",mean_absolute_error(y_test, train_preds))\n",
        "print(\"MSE\",mean_squared_error(y_test, train_preds))\n",
        "print(\"RMSE\",np.sqrt(mean_squared_error(y_test, train_preds)))\n",
        "print(\"RMSE Logarithmic\",np.log(np.sqrt(mean_squared_error(y_test, train_preds))))"
      ],
      "execution_count": null,
      "outputs": [
        {
          "output_type": "stream",
          "name": "stdout",
          "text": [
            "MAE 0.10804673981339966\n",
            "MSE 0.019543761862813064\n",
            "RMSE 0.13979900522826713\n",
            "RMSE Logarithmic -1.9675495648853751\n"
          ]
        }
      ]
    }
  ]
}